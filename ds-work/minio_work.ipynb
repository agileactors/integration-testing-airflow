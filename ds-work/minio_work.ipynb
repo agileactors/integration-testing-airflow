{
 "cells": [
  {
   "cell_type": "code",
   "execution_count": 1,
   "id": "34c6fed6-e5e3-44eb-b99f-cbe3cb7b5535",
   "metadata": {
    "tags": []
   },
   "outputs": [
    {
     "name": "stdout",
     "output_type": "stream",
     "text": [
      "Collecting minio\n",
      "  Downloading minio-7.1.14-py3-none-any.whl (77 kB)\n",
      "\u001b[2K     \u001b[90m━━━━━━━━━━━━━━━━━━━━━━━━━━━━━━━━━━━━━━━━\u001b[0m \u001b[32m77.2/77.2 kB\u001b[0m \u001b[31m1.9 MB/s\u001b[0m eta \u001b[36m0:00:00\u001b[0ma \u001b[36m0:00:01\u001b[0m\n",
      "\u001b[?25hRequirement already satisfied: certifi in /opt/conda/lib/python3.10/site-packages (from minio) (2022.12.7)\n",
      "Requirement already satisfied: urllib3 in /opt/conda/lib/python3.10/site-packages (from minio) (1.26.15)\n",
      "Installing collected packages: minio\n",
      "Successfully installed minio-7.1.14\n"
     ]
    }
   ],
   "source": [
    "!pip3 install minio"
   ]
  },
  {
   "cell_type": "code",
   "execution_count": 2,
   "id": "ff406325-89c5-4b2e-b2b3-c78279ea14e8",
   "metadata": {
    "tags": []
   },
   "outputs": [],
   "source": [
    "from minio import Minio\n",
    "\n",
    "client = Minio(\n",
    "        \"minio:9000\",\n",
    "        secure=False,\n",
    "        access_key=\"minio_access_key\",\n",
    "        secret_key=\"minio_secret_key\",\n",
    "    )"
   ]
  },
  {
   "cell_type": "code",
   "execution_count": 5,
   "id": "6f5a56cc-cb06-41ad-aa4f-c8c8cd314a4b",
   "metadata": {
    "tags": []
   },
   "outputs": [
    {
     "data": {
      "text/plain": [
       "[<minio.datatypes.Object at 0x7f761414d330>,\n",
       " <minio.datatypes.Object at 0x7f76145af070>]"
      ]
     },
     "execution_count": 5,
     "metadata": {},
     "output_type": "execute_result"
    }
   ],
   "source": [
    "list(client.list_objects('integration-bucket', None, recursive=True))"
   ]
  },
  {
   "cell_type": "code",
   "execution_count": 8,
   "id": "84fefcb0-1a8d-465d-b4e9-e4457eb70d47",
   "metadata": {
    "tags": []
   },
   "outputs": [
    {
     "ename": "S3Error",
     "evalue": "S3 operation failed; code: BucketNotEmpty, message: The bucket you tried to delete is not empty, resource: /integration-bucket, request_id: 1759C8D3D20D467E, host_id: e3b0c44298fc1c149afbf4c8996fb92427ae41e4649b934ca495991b7852b855, bucket_name: integration-bucket",
     "output_type": "error",
     "traceback": [
      "\u001b[0;31m---------------------------------------------------------------------------\u001b[0m",
      "\u001b[0;31mS3Error\u001b[0m                                   Traceback (most recent call last)",
      "Cell \u001b[0;32mIn[8], line 2\u001b[0m\n\u001b[1;32m      1\u001b[0m client\u001b[38;5;241m.\u001b[39mremove_objects(\u001b[38;5;124m\"\u001b[39m\u001b[38;5;124mintegration-bucket\u001b[39m\u001b[38;5;124m\"\u001b[39m, client\u001b[38;5;241m.\u001b[39mlist_objects(\u001b[38;5;124m'\u001b[39m\u001b[38;5;124mintegration-bucket\u001b[39m\u001b[38;5;124m'\u001b[39m, \u001b[38;5;124m'\u001b[39m\u001b[38;5;124mingestions\u001b[39m\u001b[38;5;124m'\u001b[39m, recursive\u001b[38;5;241m=\u001b[39m\u001b[38;5;28;01mTrue\u001b[39;00m))\n\u001b[0;32m----> 2\u001b[0m \u001b[43mclient\u001b[49m\u001b[38;5;241;43m.\u001b[39;49m\u001b[43mremove_bucket\u001b[49m\u001b[43m(\u001b[49m\u001b[38;5;124;43m\"\u001b[39;49m\u001b[38;5;124;43mintegration-bucket\u001b[39;49m\u001b[38;5;124;43m\"\u001b[39;49m\u001b[43m)\u001b[49m\n",
      "File \u001b[0;32m/opt/conda/lib/python3.10/site-packages/minio/api.py:678\u001b[0m, in \u001b[0;36mMinio.remove_bucket\u001b[0;34m(self, bucket_name)\u001b[0m\n\u001b[1;32m    669\u001b[0m \u001b[38;5;250m\u001b[39m\u001b[38;5;124;03m\"\"\"\u001b[39;00m\n\u001b[1;32m    670\u001b[0m \u001b[38;5;124;03mRemove an empty bucket.\u001b[39;00m\n\u001b[1;32m    671\u001b[0m \n\u001b[0;32m   (...)\u001b[0m\n\u001b[1;32m    675\u001b[0m \u001b[38;5;124;03m    client.remove_bucket(\"my-bucket\")\u001b[39;00m\n\u001b[1;32m    676\u001b[0m \u001b[38;5;124;03m\"\"\"\u001b[39;00m\n\u001b[1;32m    677\u001b[0m check_bucket_name(bucket_name)\n\u001b[0;32m--> 678\u001b[0m \u001b[38;5;28;43mself\u001b[39;49m\u001b[38;5;241;43m.\u001b[39;49m\u001b[43m_execute\u001b[49m\u001b[43m(\u001b[49m\u001b[38;5;124;43m\"\u001b[39;49m\u001b[38;5;124;43mDELETE\u001b[39;49m\u001b[38;5;124;43m\"\u001b[39;49m\u001b[43m,\u001b[49m\u001b[43m \u001b[49m\u001b[43mbucket_name\u001b[49m\u001b[43m)\u001b[49m\n\u001b[1;32m    679\u001b[0m \u001b[38;5;28mself\u001b[39m\u001b[38;5;241m.\u001b[39m_region_map\u001b[38;5;241m.\u001b[39mpop(bucket_name, \u001b[38;5;28;01mNone\u001b[39;00m)\n",
      "File \u001b[0;32m/opt/conda/lib/python3.10/site-packages/minio/api.py:406\u001b[0m, in \u001b[0;36mMinio._execute\u001b[0;34m(self, method, bucket_name, object_name, body, headers, query_params, preload_content, no_body_trace)\u001b[0m\n\u001b[1;32m    403\u001b[0m region \u001b[38;5;241m=\u001b[39m \u001b[38;5;28mself\u001b[39m\u001b[38;5;241m.\u001b[39m_get_region(bucket_name, \u001b[38;5;28;01mNone\u001b[39;00m)\n\u001b[1;32m    405\u001b[0m \u001b[38;5;28;01mtry\u001b[39;00m:\n\u001b[0;32m--> 406\u001b[0m     \u001b[38;5;28;01mreturn\u001b[39;00m \u001b[38;5;28;43mself\u001b[39;49m\u001b[38;5;241;43m.\u001b[39;49m\u001b[43m_url_open\u001b[49m\u001b[43m(\u001b[49m\n\u001b[1;32m    407\u001b[0m \u001b[43m        \u001b[49m\u001b[43mmethod\u001b[49m\u001b[43m,\u001b[49m\n\u001b[1;32m    408\u001b[0m \u001b[43m        \u001b[49m\u001b[43mregion\u001b[49m\u001b[43m,\u001b[49m\n\u001b[1;32m    409\u001b[0m \u001b[43m        \u001b[49m\u001b[43mbucket_name\u001b[49m\u001b[38;5;241;43m=\u001b[39;49m\u001b[43mbucket_name\u001b[49m\u001b[43m,\u001b[49m\n\u001b[1;32m    410\u001b[0m \u001b[43m        \u001b[49m\u001b[43mobject_name\u001b[49m\u001b[38;5;241;43m=\u001b[39;49m\u001b[43mobject_name\u001b[49m\u001b[43m,\u001b[49m\n\u001b[1;32m    411\u001b[0m \u001b[43m        \u001b[49m\u001b[43mbody\u001b[49m\u001b[38;5;241;43m=\u001b[39;49m\u001b[43mbody\u001b[49m\u001b[43m,\u001b[49m\n\u001b[1;32m    412\u001b[0m \u001b[43m        \u001b[49m\u001b[43mheaders\u001b[49m\u001b[38;5;241;43m=\u001b[39;49m\u001b[43mheaders\u001b[49m\u001b[43m,\u001b[49m\n\u001b[1;32m    413\u001b[0m \u001b[43m        \u001b[49m\u001b[43mquery_params\u001b[49m\u001b[38;5;241;43m=\u001b[39;49m\u001b[43mquery_params\u001b[49m\u001b[43m,\u001b[49m\n\u001b[1;32m    414\u001b[0m \u001b[43m        \u001b[49m\u001b[43mpreload_content\u001b[49m\u001b[38;5;241;43m=\u001b[39;49m\u001b[43mpreload_content\u001b[49m\u001b[43m,\u001b[49m\n\u001b[1;32m    415\u001b[0m \u001b[43m        \u001b[49m\u001b[43mno_body_trace\u001b[49m\u001b[38;5;241;43m=\u001b[39;49m\u001b[43mno_body_trace\u001b[49m\u001b[43m,\u001b[49m\n\u001b[1;32m    416\u001b[0m \u001b[43m    \u001b[49m\u001b[43m)\u001b[49m\n\u001b[1;32m    417\u001b[0m \u001b[38;5;28;01mexcept\u001b[39;00m S3Error \u001b[38;5;28;01mas\u001b[39;00m exc:\n\u001b[1;32m    418\u001b[0m     \u001b[38;5;28;01mif\u001b[39;00m exc\u001b[38;5;241m.\u001b[39mcode \u001b[38;5;241m!=\u001b[39m \u001b[38;5;124m\"\u001b[39m\u001b[38;5;124mRetryHead\u001b[39m\u001b[38;5;124m\"\u001b[39m:\n",
      "File \u001b[0;32m/opt/conda/lib/python3.10/site-packages/minio/api.py:389\u001b[0m, in \u001b[0;36mMinio._url_open\u001b[0;34m(self, method, region, bucket_name, object_name, body, headers, query_params, preload_content, no_body_trace)\u001b[0m\n\u001b[1;32m    386\u001b[0m \u001b[38;5;28;01mif\u001b[39;00m response_error\u001b[38;5;241m.\u001b[39mcode \u001b[38;5;129;01min\u001b[39;00m [\u001b[38;5;124m\"\u001b[39m\u001b[38;5;124mNoSuchBucket\u001b[39m\u001b[38;5;124m\"\u001b[39m, \u001b[38;5;124m\"\u001b[39m\u001b[38;5;124mRetryHead\u001b[39m\u001b[38;5;124m\"\u001b[39m]:\n\u001b[1;32m    387\u001b[0m     \u001b[38;5;28mself\u001b[39m\u001b[38;5;241m.\u001b[39m_region_map\u001b[38;5;241m.\u001b[39mpop(bucket_name, \u001b[38;5;28;01mNone\u001b[39;00m)\n\u001b[0;32m--> 389\u001b[0m \u001b[38;5;28;01mraise\u001b[39;00m response_error\n",
      "\u001b[0;31mS3Error\u001b[0m: S3 operation failed; code: BucketNotEmpty, message: The bucket you tried to delete is not empty, resource: /integration-bucket, request_id: 1759C8D3D20D467E, host_id: e3b0c44298fc1c149afbf4c8996fb92427ae41e4649b934ca495991b7852b855, bucket_name: integration-bucket"
     ]
    }
   ],
   "source": [
    "client.remove_objects(\"integration-bucket\", client.list_objects('integration-bucket', 'ingestions', recursive=True))\n",
    "client.remove_bucket(\"integration-bucket\")"
   ]
  },
  {
   "cell_type": "code",
   "execution_count": 20,
   "id": "9df034b7-beda-4b0f-bdf2-d591992cdda1",
   "metadata": {
    "tags": []
   },
   "outputs": [],
   "source": [
    "from minio.deleteobjects import DeleteObject\n",
    "\n",
    "delete_object_list = map(\n",
    "    lambda x: DeleteObject(x.object_name),\n",
    "    client.list_objects(\"integration-bucket\", None, recursive=True),\n",
    ")\n",
    "errors = client.remove_objects(\"integration-bucket\", delete_object_list)\n",
    "for error in errors:\n",
    "    print(\"error occurred when deleting object\", error)"
   ]
  },
  {
   "cell_type": "code",
   "execution_count": 21,
   "id": "01cd03af-750c-4ef8-aa97-ce26904480bf",
   "metadata": {
    "tags": []
   },
   "outputs": [],
   "source": [
    "for x in client.list_objects(\"integration-bucket\", None, recursive=True):\n",
    "    print(x.object_name)"
   ]
  },
  {
   "cell_type": "code",
   "execution_count": null,
   "id": "b1dd37c5-9785-46dd-95b5-99e8caf7023f",
   "metadata": {},
   "outputs": [],
   "source": []
  }
 ],
 "metadata": {
  "kernelspec": {
   "display_name": "Python 3 (ipykernel)",
   "language": "python",
   "name": "python3"
  },
  "language_info": {
   "codemirror_mode": {
    "name": "ipython",
    "version": 3
   },
   "file_extension": ".py",
   "mimetype": "text/x-python",
   "name": "python",
   "nbconvert_exporter": "python",
   "pygments_lexer": "ipython3",
   "version": "3.10.10"
  }
 },
 "nbformat": 4,
 "nbformat_minor": 5
}
